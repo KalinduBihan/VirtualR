{
 "cells": [
  {
   "cell_type": "code",
   "execution_count": 2,
   "metadata": {},
   "outputs": [],
   "source": [
    "import uuid\n",
    "import glob\n",
    "import base64\n",
    "import requests\n",
    "import cv2 as cv\n",
    "import numpy as np\n",
    "import pandas as pd\n",
    "import seaborn as sns\n",
    "import tensorflow as tf\n",
    "from PIL import ImageFile, Image\n",
    "from matplotlib import pyplot as plt\n",
    "from sklearn.metrics import classification_report, confusion_matrix\n",
    "ImageFile.LOAD_TRUNCATED_IMAGES = True"
   ]
  },
  {
   "cell_type": "code",
   "execution_count": 3,
   "metadata": {},
   "outputs": [
    {
     "name": "stdout",
     "output_type": "stream",
     "text": [
      "Tensorflow version:  2.10.1\n",
      "Pandas version:  2.2.3\n",
      "Numpy version:  1.24.3\n"
     ]
    }
   ],
   "source": [
    "print(\"Tensorflow version: \", tf.__version__)\n",
    "print(\"Pandas version: \", pd.__version__)\n",
    "print(\"Numpy version: \", np.__version__)"
   ]
  },
  {
   "cell_type": "code",
   "execution_count": 4,
   "metadata": {},
   "outputs": [
    {
     "name": "stdout",
     "output_type": "stream",
     "text": [
      "Num GPUs Available:  0\n"
     ]
    }
   ],
   "source": [
    "gpus= tf.config.experimental.list_physical_devices('GPU')\n",
    "print(\"Num GPUs Available: \", len(gpus))\n",
    "if gpus:\n",
    "    tf.config.experimental.set_memory_growth(gpus[0], True)"
   ]
  },
  {
   "cell_type": "code",
   "execution_count": 5,
   "metadata": {},
   "outputs": [],
   "source": [
    "# check there is currpted image\n",
    "def is_corrupted_image(image_path):\n",
    "    try:\n",
    "        img = Image.open(image_path) # open the image file\n",
    "        img.verify() # verify that it is, in fact an image\n",
    "        return False\n",
    "    \n",
    "    except (IOError, SyntaxError) as e:\n",
    "        print('Bad file:', image_path) # print out the names of corrupt files\n",
    "\n",
    "for image_path in glob.glob(\"data/body/*/*.*\"):\n",
    "    is_corrupted_image(image_path)"
   ]
  },
  {
   "cell_type": "code",
   "execution_count": 6,
   "metadata": {},
   "outputs": [],
   "source": [
    "def preprocessing_function(image):\n",
    "    return tf.keras.applications.xception.preprocess_input(image)\n",
    "    \n",
    "def load_image_data_generator(train_path: str = 'data/body'):\n",
    "    train_datagen = tf.keras.preprocessing.image.ImageDataGenerator(\n",
    "                                                                    zoom_range=0.2,\n",
    "                                                                    shear_range=0.2,\n",
    "                                                                    rotation_range=20,\n",
    "                                                                    width_shift_range=0.2,\n",
    "                                                                    height_shift_range=0.2,\n",
    "                                                                    horizontal_flip=True,\n",
    "                                                                    validation_split=0.3,\n",
    "                                                                    preprocessing_function=preprocessing_function,\n",
    "                                                                    )\n",
    "    train_generator = train_datagen.flow_from_directory(\n",
    "                                                        train_path,\n",
    "                                                        batch_size=12,\n",
    "                                                        color_mode='rgb',\n",
    "                                                        target_size=(224, 224),\n",
    "                                                        class_mode='categorical',\n",
    "                                                        subset='training'\n",
    "                                                        )   \n",
    "\n",
    "    test_generator = train_datagen.flow_from_directory(\n",
    "                                                    train_path,\n",
    "                                                    batch_size=12,\n",
    "                                                    color_mode='rgb',\n",
    "                                                    target_size=(224, 224),\n",
    "                                                    class_mode='categorical',\n",
    "                                                    subset='validation'                         \n",
    "                                                    )   \n",
    "\n",
    "    train_datagen = tf.keras.preprocessing.image.ImageDataGenerator(\n",
    "                                                                    zoom_range=0.2,\n",
    "                                                                    shear_range=0.2,\n",
    "                                                                    rotation_range=20,\n",
    "                                                                    width_shift_range=0.2,\n",
    "                                                                    height_shift_range=0.2,\n",
    "                                                                    horizontal_flip=True,\n",
    "                                                                    preprocessing_function=preprocessing_function,\n",
    "                                                                    )\n",
    "\n",
    "    train_generator = train_datagen.flow_from_directory(\n",
    "                                                        train_path,\n",
    "                                                        batch_size=12,\n",
    "                                                        color_mode='rgb',\n",
    "                                                        target_size=(224, 224),\n",
    "                                                        class_mode='categorical'\n",
    "                                                        )   \n",
    "    return train_generator, test_generator"
   ]
  },
  {
   "cell_type": "code",
   "execution_count": 7,
   "metadata": {},
   "outputs": [
    {
     "name": "stdout",
     "output_type": "stream",
     "text": [
      "Found 1832 images belonging to 5 classes.\n",
      "Found 782 images belonging to 5 classes.\n",
      "Found 2614 images belonging to 5 classes.\n"
     ]
    }
   ],
   "source": [
    "train_generator, test_generator = load_image_data_generator()"
   ]
  },
  {
   "cell_type": "code",
   "execution_count": 8,
   "metadata": {},
   "outputs": [
    {
     "data": {
      "image/png": "[encoded data removed]",
      "text/plain": [
       "<Figure size 800x600 with 1 Axes>"
      ]
     },
     "metadata": {},
     "output_type": "display_data"
    }
   ],
   "source": [
    "labels = train_generator.classes.tolist() + test_generator.classes.tolist()\n",
    "value_counts = np.unique(labels, return_counts=True)\n",
    "\n",
    "fig, ax = plt.subplots(figsize=(8, 6))\n",
    "ax.bar(value_counts[0], value_counts[1])\n",
    "ax.set_xticks(value_counts[0])\n",
    "ax.set_xticklabels(list(train_generator.class_indices.keys()))\n",
    "plt.show()"
   ]
  },
  {
   "cell_type": "code",
   "execution_count": 9,
   "metadata": {},
   "outputs": [],
   "source": [
    "def build_model(input_shape=(224, 224, 3)):\n",
    "        xception_model = tf.keras.applications.Xception(\n",
    "                                                        include_top=False,\n",
    "                                                        weights='imagenet',\n",
    "                                                        input_shape=input_shape\n",
    "                                                        )\n",
    "        xception_model.trainable = True\n",
    "\n",
    "        input_layer = tf.keras.layers.Input(shape=input_shape)\n",
    "        x = xception_model(input_layer)\n",
    "        x = tf.keras.layers.GlobalAveragePooling2D()(x)\n",
    "        x = tf.keras.layers.Dense(512, activation='relu')(x)\n",
    "        x = tf.keras.layers.Dropout(0.2)(x)\n",
    "        x = tf.keras.layers.Dense(256, activation='relu')(x)\n",
    "        x = tf.keras.layers.Dropout(0.2)(x)\n",
    "        output_layer = tf.keras.layers.Dense(len(train_generator.class_indices), activation='softmax')(x)\n",
    "\n",
    "        model = tf.keras.Model(\n",
    "                                inputs=input_layer, \n",
    "                                outputs=output_layer\n",
    "                                )\n",
    "\n",
    "        model.compile(\n",
    "                        optimizer='adam', \n",
    "                        loss='categorical_crossentropy', \n",
    "                        metrics=[\n",
    "                                tf.keras.metrics.CategoricalAccuracy(name='accuracy'),\n",
    "                                tf.keras.metrics.Precision(name='precision'),\n",
    "                                tf.keras.metrics.Recall(name='recall'),\n",
    "                                tf.keras.metrics.AUC(name='auc')\n",
    "                                ]\n",
    "                        )\n",
    "\n",
    "        return model"
   ]
  },
  {
   "cell_type": "code",
   "execution_count": 10,
   "metadata": {},
   "outputs": [
    {
     "name": "stdout",
     "output_type": "stream",
     "text": [
      "Model: \"model\"\n",
      "_________________________________________________________________\n",
      " Layer (type)                Output Shape              Param #   \n",
      "=================================================================\n",
      " input_2 (InputLayer)        [(None, 224, 224, 3)]     0         \n",
      "                                                                 \n",
      " xception (Functional)       (None, 7, 7, 2048)        20861480  \n",
      "                                                                 \n",
      " global_average_pooling2d (G  (None, 2048)             0         \n",
      " lobalAveragePooling2D)                                          \n",
      "                                                                 \n",
      " dense (Dense)               (None, 512)               1049088   \n",
      "                                                                 \n",
      " dropout (Dropout)           (None, 512)               0         \n",
      "                                                                 \n",
      " dense_1 (Dense)             (None, 256)               131328    \n",
      "                                                                 \n",
      " dropout_1 (Dropout)         (None, 256)               0         \n",
      "                                                                 \n",
      " dense_2 (Dense)             (None, 5)                 1285      \n",
      "                                                                 \n",
      "=================================================================\n",
      "Total params: 22,043,181\n",
      "Trainable params: 21,988,653\n",
      "Non-trainable params: 54,528\n",
      "_________________________________________________________________\n"
     ]
    }
   ],
   "source": [
    "model = build_model()\n",
    "\n",
    "model.summary()"
   ]
  },
  {
   "cell_type": "code",
   "execution_count": null,
   "metadata": {},
   "outputs": [],
   "source": [
    "early_stopping = tf.keras.callbacks.EarlyStopping(\n",
    "                                                patience=50,\n",
    "                                                monitor='val_loss',\n",
    "                                                restore_best_weights=True\n",
    "                                                )   \n",
    "\n",
    "history = model.fit(\n",
    "                    train_generator, epochs=200,\n",
    "                    validation_data = test_generator,\n",
    "                    callbacks = [early_stopping]\n",
    "                    )"
   ]
  },
  {
   "cell_type": "code",
   "execution_count": 11,
   "metadata": {},
   "outputs": [],
   "source": [
    "model.save('artifacts/model_body.h5')"
   ]
  },
  {
   "cell_type": "code",
   "execution_count": null,
   "metadata": {},
   "outputs": [],
   "source": [
    "history_cp = history.history.copy()\n",
    "history_cp['loss'] = np.cumsum(history_cp['loss']) / np.arange(1, len(history_cp['loss']) + 1)\n",
    "history_cp['val_loss'] = np.cumsum(history_cp['val_loss']) / np.arange(1, len(history_cp['val_loss']) + 1)\n",
    "\n",
    "history_cp['accuracy'] = np.cumsum(history_cp['accuracy']) / np.arange(1, len(history_cp['accuracy']) + 1)\n",
    "history_cp['val_accuracy'] = np.cumsum(history_cp['val_accuracy']) / np.arange(1, len(history_cp['val_accuracy']) + 1)\n",
    "\n",
    "history_cp['precision'] = np.cumsum(history_cp['precision']) / np.arange(1, len(history_cp['precision']) + 1)\n",
    "history_cp['val_precision'] = np.cumsum(history_cp['val_precision']) / np.arange(1, len(history_cp['val_precision']) + 1)\n",
    "\n",
    "history_cp['recall'] = np.cumsum(history_cp['recall']) / np.arange(1, len(history_cp['recall']) + 1)\n",
    "history_cp['val_recall'] = np.cumsum(history_cp['val_recall']) / np.arange(1, len(history_cp['val_recall']) + 1)\n",
    "\n",
    "history_cp['auc'] = np.cumsum(history_cp['auc']) / np.arange(1, len(history_cp['auc']) + 1)\n",
    "history_cp['val_auc'] = np.cumsum(history_cp['val_auc']) / np.arange(1, len(history_cp['val_auc']) + 1)"
   ]
  },
  {
   "cell_type": "code",
   "execution_count": null,
   "metadata": {},
   "outputs": [],
   "source": [
    "# Plot history_cp\n",
    "plt.figure(figsize=(25, 5))\n",
    "plt.subplot(1, 5, 1)\n",
    "plt.plot(history_cp['loss'], label='loss')\n",
    "plt.plot(history_cp['val_loss'], label='val_loss')\n",
    "plt.legend()\n",
    "plt.title('Loss')\n",
    "\n",
    "plt.subplot(1, 5, 2)\n",
    "plt.plot(history_cp['accuracy'], label='accuracy')\n",
    "plt.plot(history_cp['val_accuracy'], label='val_accuracy')\n",
    "plt.legend()\n",
    "plt.title('Accuracy')\n",
    "\n",
    "plt.subplot(1, 5, 3)\n",
    "plt.plot(history_cp['precision'], label='precision')\n",
    "plt.plot(history_cp['val_precision'], label='val_precision')\n",
    "plt.legend()\n",
    "plt.title('Precision')\n",
    "\n",
    "plt.subplot(1, 5, 4)\n",
    "plt.plot(history_cp['recall'], label='recall')\n",
    "plt.plot(history_cp['val_recall'], label='val_recall')\n",
    "plt.legend()\n",
    "plt.title('Recall')\n",
    "\n",
    "plt.subplot(1, 5, 5)\n",
    "plt.plot(history_cp['auc'], label='auc')\n",
    "plt.plot(history_cp['val_auc'], label='val_auc')\n",
    "plt.legend()\n",
    "plt.title('AUC')\n",
    "\n",
    "plt.suptitle('Emotion Model - Training Performance')\n",
    "plt.show()"
   ]
  },
  {
   "cell_type": "markdown",
   "metadata": {},
   "source": [
    "### Evaluation"
   ]
  },
  {
   "cell_type": "code",
   "execution_count": 12,
   "metadata": {},
   "outputs": [],
   "source": [
    "import cv2 as cv\n",
    "import numpy as np\n",
    "import seaborn as sns\n",
    "import tensorflow as tf\n",
    "from PIL import ImageFile\n",
    "from matplotlib import pyplot as plt\n",
    "from sklearn.metrics import classification_report, confusion_matrix\n",
    "ImageFile.LOAD_TRUNCATED_IMAGES = True"
   ]
  },
  {
   "cell_type": "code",
   "execution_count": 23,
   "metadata": {},
   "outputs": [],
   "source": [
    "model = tf.keras.models.load_model('artifacts/model_body.h5')\n",
    "model.compile(\n",
    "                optimizer='adam', \n",
    "                loss='categorical_crossentropy', \n",
    "                metrics=[\n",
    "                        tf.keras.metrics.CategoricalAccuracy(name='accuracy'),\n",
    "                        tf.keras.metrics.Precision(name='precision'),\n",
    "                        tf.keras.metrics.Recall(name='recall'),\n",
    "                        tf.keras.metrics.AUC(name='auc')\n",
    "                        ]\n",
    "                )"
   ]
  },
  {
   "cell_type": "code",
   "execution_count": 14,
   "metadata": {},
   "outputs": [],
   "source": [
    "def preprocessing_function(image):\n",
    "    return tf.keras.applications.xception.preprocess_input(image)\n",
    "    \n",
    "def inference_animal(image_path):\n",
    "    image = cv.imread(image_path)\n",
    "    image = cv.cvtColor(image, cv.COLOR_BGR2RGB)\n",
    "    image = cv.resize(image, (224, 224))\n",
    "    image = np.expand_dims(image, axis=0)\n",
    "    image = preprocessing_function(image)\n",
    "    pred = model.predict(\n",
    "                        image,\n",
    "                        verbose=0\n",
    "                        ).squeeze()\n",
    "    label = pred.argmax()\n",
    "    return label"
   ]
  },
  {
   "cell_type": "code",
   "execution_count": 24,
   "metadata": {},
   "outputs": [
    {
     "name": "stdout",
     "output_type": "stream",
     "text": [
      "Found 2614 images belonging to 5 classes.\n"
     ]
    }
   ],
   "source": [
    "eval_datagen = tf.keras.preprocessing.image.ImageDataGenerator(\n",
    "                                                                preprocessing_function=preprocessing_function,\n",
    "                                                                )\n",
    "eval_generator = eval_datagen.flow_from_directory(\n",
    "                                                'data/body',\n",
    "                                                batch_size=32,\n",
    "                                                color_mode='rgb',\n",
    "                                                target_size=(224, 224),\n",
    "                                                class_mode='categorical'   ,\n",
    "                                                shuffle=False                  \n",
    "                                                )   \n"
   ]
  },
  {
   "cell_type": "code",
   "execution_count": 25,
   "metadata": {},
   "outputs": [
    {
     "name": "stdout",
     "output_type": "stream",
     "text": [
      "82/82 [==============================] - 192s 2s/step\n"
     ]
    }
   ],
   "source": [
    "Ptest = model.predict(eval_generator)\n",
    "Ptest = Ptest.argmax(axis=1)"
   ]
  },
  {
   "cell_type": "code",
   "execution_count": 26,
   "metadata": {},
   "outputs": [
    {
     "data": {
      "text/plain": [
       "{0: 'anomalies',\n",
       " 1: 'open_palms',\n",
       " 2: 'self_referencing',\n",
       " 3: 'steepled',\n",
       " 4: 'upright_open_pose'}"
      ]
     },
     "execution_count": 26,
     "metadata": {},
     "output_type": "execute_result"
    }
   ],
   "source": [
    "class_dict = eval_generator.class_indices\n",
    "class_dict_rev = {v: k for k, v in class_dict.items()}\n",
    "class_dict_rev"
   ]
  },
  {
   "cell_type": "code",
   "execution_count": 27,
   "metadata": {},
   "outputs": [],
   "source": [
    "img_paths = eval_generator.filepaths\n",
    "img_paths = [img_path.replace('\\\\', '/') for img_path in img_paths]\n",
    "Ytest = [class_dict[img_path.split('/')[-2]] for img_path in img_paths]"
   ]
  },
  {
   "cell_type": "code",
   "execution_count": 28,
   "metadata": {},
   "outputs": [],
   "source": [
    "clf_report = classification_report(\n",
    "                                    Ytest,\n",
    "                                    Ptest,\n",
    "                                    target_names=list(class_dict.keys())    \n",
    "                                    )   \n",
    "cm = confusion_matrix(Ytest, Ptest)"
   ]
  },
  {
   "cell_type": "code",
   "execution_count": 29,
   "metadata": {},
   "outputs": [
    {
     "name": "stdout",
     "output_type": "stream",
     "text": [
      "############### Classification Report ###############\n",
      "                   precision    recall  f1-score   support\n",
      "\n",
      "        anomalies       0.20      0.42      0.27       512\n",
      "       open_palms       0.22      0.18      0.20       807\n",
      " self_referencing       0.12      0.01      0.02       576\n",
      "         steepled       0.09      0.09      0.09       344\n",
      "upright_open_pose       0.07      0.09      0.08       375\n",
      "\n",
      "         accuracy                           0.16      2614\n",
      "        macro avg       0.14      0.16      0.13      2614\n",
      "     weighted avg       0.15      0.16      0.14      2614\n",
      "\n"
     ]
    }
   ],
   "source": [
    "print(\"############### Classification Report ###############\")\n",
    "print(clf_report)"
   ]
  },
  {
   "cell_type": "code",
   "execution_count": 30,
   "metadata": {},
   "outputs": [
    {
     "data": {
      "image/png": "[encoded data removed]",
      "text/plain": [
       "<Figure size 1200x1000 with 2 Axes>"
      ]
     },
     "metadata": {},
     "output_type": "display_data"
    }
   ],
   "source": [
    "plt.figure(figsize=(12, 10))\n",
    "sns.heatmap(\n",
    "            cm, \n",
    "            fmt='d', \n",
    "            annot=True, \n",
    "            xticklabels=list(class_dict.keys()), \n",
    "            yticklabels=list(class_dict.keys())\n",
    "            )\n",
    "plt.xlabel('Predicted')\n",
    "plt.ylabel('Actual')\n",
    "plt.title('Confusion Matrix')\n",
    "plt.show()"
   ]
  },
  {
   "cell_type": "markdown",
   "metadata": {},
   "source": [
    "### Inference"
   ]
  },
  {
   "cell_type": "code",
   "execution_count": 31,
   "metadata": {},
   "outputs": [],
   "source": [
    "import cv2 as cv\n",
    "import numpy as np\n",
    "import pandas as pd\n",
    "import tensorflow as tf"
   ]
  },
  {
   "cell_type": "code",
   "execution_count": 32,
   "metadata": {},
   "outputs": [],
   "source": [
    "model = tf.keras.models.load_model('artifacts/model_body.h5')\n",
    "model.compile(\n",
    "                optimizer='adam', \n",
    "                loss='categorical_crossentropy', \n",
    "                metrics=[\n",
    "                        tf.keras.metrics.CategoricalAccuracy(name='accuracy'),\n",
    "                        tf.keras.metrics.Precision(name='precision'),\n",
    "                        tf.keras.metrics.Recall(name='recall'),\n",
    "                        tf.keras.metrics.AUC(name='auc')\n",
    "                        ]\n",
    "                )"
   ]
  },
  {
   "cell_type": "code",
   "execution_count": 34,
   "metadata": {},
   "outputs": [],
   "source": [
    "def inference_body_image(\n",
    "                    image_path,\n",
    "                    class_dict = {\n",
    "                                0: 'anomalies',\n",
    "                                1: 'open_palms',\n",
    "                                2: 'self_referencing',\n",
    "                                3: 'steepled',\n",
    "                                4: 'upright_open_pose'\n",
    "                                }\n",
    "                    ):\n",
    "        image = cv.imread(image_path)\n",
    "        image = cv.cvtColor(image, cv.COLOR_BGR2RGB)\n",
    "        image = cv.resize(image, (224, 224))\n",
    "        image = np.expand_dims(image, axis=0)\n",
    "        image = tf.keras.applications.xception.preprocess_input(image)\n",
    "        pred = model_disease.predict(\n",
    "                                    image,\n",
    "                                    verbose=0\n",
    "                                    ).squeeze()\n",
    "        label = int(pred.argmax())\n",
    "        return class_dict[label]"
   ]
  },
  {
   "cell_type": "code",
   "execution_count": 35,
   "metadata": {},
   "outputs": [
    {
     "data": {
      "text/plain": [
       "'anomalies'"
      ]
     },
     "execution_count": 35,
     "metadata": {},
     "output_type": "execute_result"
    }
   ],
   "source": [
    "inference_body_image('data/body/anomalies/Dananjaya Hettiarachchi World Champion of Public Speaking 2014 Full Speech_000434.jpg')"
   ]
  },
  {
   "cell_type": "code",
   "execution_count": 36,
   "metadata": {},
   "outputs": [],
   "source": [
    "def inference_body_video(\n",
    "                    video_path,\n",
    "                    class_dict = {\n",
    "                                0: 'anomalies',\n",
    "                                1: 'open_palms',\n",
    "                                2: 'self_referencing',\n",
    "                                3: 'steepled',\n",
    "                                4: 'upright_open_pose'\n",
    "                                },\n",
    "                    score_dict = {\n",
    "                                \"steepled\": 0.4,\n",
    "                                \"anomalies\": 0,\n",
    "                                \"open_palms\": 0.3,\n",
    "                                \"self_referencing\": 0.2,\n",
    "                                \"upright_open_pose\": 0.1\n",
    "                                },\n",
    "                    is_visualize = False\n",
    "                    ):\n",
    "        result_dict = {}\n",
    "        for key in class_dict.values():\n",
    "            result_dict[key] = 0\n",
    "\n",
    "        frame_count = 0\n",
    "        cap = cv.VideoCapture(video_path)\n",
    "        FPS = int(cap.get(cv.CAP_PROP_FPS))\n",
    "        print(\"Frames per second using video.get(cv.CAP_PROP_FPS) : {0}\".format(FPS))\n",
    "\n",
    "        while True:\n",
    "            ret, frame = cap.read()\n",
    "            if not ret:\n",
    "                break\n",
    "\n",
    "            if frame_count % FPS == 0:\n",
    "                image = cv.cvtColor(frame, cv.COLOR_BGR2RGB)\n",
    "                image = cv.resize(image, (224, 224))\n",
    "                image = np.expand_dims(image, axis=0)\n",
    "                image = tf.keras.applications.xception.preprocess_input(image)\n",
    "                pred = model.predict(\n",
    "                                            image,\n",
    "                                            verbose=0\n",
    "                                            ).squeeze()\n",
    "                label = int(pred.argmax())\n",
    "                proba = round(pred[label] * 100, 2)\n",
    "                result_dict[class_dict[label]] += 1\n",
    "\n",
    "                if is_visualize:\n",
    "                    color = (0, 0, 255) if label != \"anomalies\" else (255, 0, 0)\n",
    "                    cv.putText(\n",
    "                                frame, \n",
    "                                f\"CLASS : {class_dict[label]}\",\n",
    "                                (10, 30), \n",
    "                                cv.FONT_HERSHEY_SIMPLEX, \n",
    "                                1, \n",
    "                                color, \n",
    "                                2\n",
    "                                )\n",
    "                    cv.putText(\n",
    "                                frame, \n",
    "                                f\"CONFIDENCE : {proba} %\",\n",
    "                                (10, 60), \n",
    "                                cv.FONT_HERSHEY_SIMPLEX, \n",
    "                                1, \n",
    "                                color, \n",
    "                                2\n",
    "                                )\n",
    "                    cv.imshow('frame', frame)\n",
    "                    if cv.waitKey(1) & 0xFF == ord('q'):\n",
    "                        break\n",
    "\n",
    "            frame_count += 1\n",
    "\n",
    "        cap.release()\n",
    "\n",
    "        df = pd.DataFrame(result_dict, index=[0])\n",
    "        df_avg = df / df.sum(axis=1).values[0]\n",
    "        df_perc = df_avg * 100\n",
    "        response = df_perc.to_dict(orient='records')\n",
    "        final_score = sum([score_dict[key] * value for key, value in response[0].items()])\n",
    "        final_score = f\"{round(final_score, 2)} %\" \n",
    "        response = {key : f\"{value} %\" for key, value in response[0].items()}\n",
    "        return response, final_score"
   ]
  },
  {
   "cell_type": "code",
   "execution_count": 39,
   "metadata": {},
   "outputs": [
    {
     "name": "stdout",
     "output_type": "stream",
     "text": [
      "Frames per second using video.get(cv.CAP_PROP_FPS) : 30\n",
      "{'anomalies': '75.0 %', 'open_palms': '0.0 %', 'self_referencing': '0.0 %', 'steepled': '25.0 %', 'upright_open_pose': '0.0 %'}\n",
      "10.0 %\n"
     ]
    }
   ],
   "source": [
    "response, final_score = inference_body_video('test_data/positive/test.mp4', is_visualize=True)\n",
    "print(response)\n",
    "print(final_score)"
   ]
  },
  {
   "cell_type": "code",
   "execution_count": 41,
   "metadata": {},
   "outputs": [
    {
     "name": "stdout",
     "output_type": "stream",
     "text": [
      "Frames per second using video.get(cv.CAP_PROP_FPS) : 30\n",
      "Body Language : {'anomalies': '75.0 %', 'open_palms': '0.0 %', 'self_referencing': '0.0 %', 'steepled': '25.0 %', 'upright_open_pose': '0.0 %'}\n",
      "Final Score : 10.0 %\n"
     ]
    }
   ],
   "source": [
    "response, final_score = inference_body_video('test_data/positive/test.mp4', is_visualize=False)\n",
    "print(f\"Body Language : {response}\")\n",
    "print(f\"Final Score : {final_score}\")"
   ]
  }
 ],
 "metadata": {
  "kernelspec": {
   "display_name": "myenv",
   "language": "python",
   "name": "python3"
  },
  "language_info": {
   "codemirror_mode": {
    "name": "ipython",
    "version": 3
   },
   "file_extension": ".py",
   "mimetype": "text/x-python",
   "name": "python",
   "nbconvert_exporter": "python",
   "pygments_lexer": "ipython3",
   "version": "3.10.15"
  }
 },
 "nbformat": 4,
 "nbformat_minor": 2
}
